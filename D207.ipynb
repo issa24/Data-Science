{
  "nbformat": 4,
  "nbformat_minor": 0,
  "metadata": {
    "colab": {
      "name": "D207.ipynb",
      "provenance": [],
      "mount_file_id": "109Zpvo1luTD4ipll8ImtCMeAoEGKLdyr",
      "authorship_tag": "ABX9TyMshbM3iB7MBB2oJKgkjfSJ",
      "include_colab_link": true
    },
    "kernelspec": {
      "name": "python3",
      "display_name": "Python 3"
    },
    "language_info": {
      "name": "python"
    }
  },
  "cells": [
    {
      "cell_type": "markdown",
      "metadata": {
        "id": "view-in-github",
        "colab_type": "text"
      },
      "source": [
        "<a href=\"https://colab.research.google.com/github/issa24/Data-Science/blob/main/D207.ipynb\" target=\"_parent\"><img src=\"https://colab.research.google.com/assets/colab-badge.svg\" alt=\"Open In Colab\"/></a>"
      ]
    },
    {
      "cell_type": "markdown",
      "source": [
        "# D207 Performance Assessment\n",
        "By Issa Abdulkadir\n",
        "\n",
        "06/21/2022\n",
        "\n",
        "WGU"
      ],
      "metadata": {
        "id": "dspSeLY1-Bne"
      }
    },
    {
      "cell_type": "markdown",
      "source": [
        "\n",
        "\n",
        "#Introduction\n",
        "\n",
        "##Scenario: Telecommunications Churn\n",
        "In the telecommunications industry, customers can choose from multiple service providers \n",
        "and actively switch from one provider to another. Customer “churn” is defined as the \n",
        "percentage of customers who stopped using a provider’s product or service during a certain \n",
        "time frame. In this highly competitive market, some telecommunications industries can \n",
        "experience average annual churn rates as high as 25 percent. Given that it costs 10 times \n",
        "more to acquire a new customer than to retain an existing one, customer retention has now \n",
        "become even more important than customer acquisition.\n",
        "For many providers, retaining highly profitable customers is the number one business goal. \n",
        "To reduce customer churn, telecommunications companies need to predict which customers \n",
        "are at high risk of churn. \n",
        "You are an analyst on a team of analysts in a popular telecommunications company, which \n",
        "serves customers in all regions of the United States. You have been asked to analyze the \n",
        "data set to explore the data, identify trends, and compare key metrics.\n",
        "\n",
        "** ***Excerpt above extracted from the data dictionary verbatim. ***** \n",
        "\n",
        "\n",
        "# **Exploratory Data Analysis**\n",
        "\n",
        "###***A1:QUESTION FOR ANALYSIS***\n",
        "\n",
        "\n",
        " What type of contract in the 'Contract' variable in the dataset has the highest rate of churn and can be there a statistical significance in the relationship to prove that?\n",
        "\n",
        "###***A2:BENEFIT FROM ANALYSIS***\n",
        "\n",
        "The stakeholders could benefit from this analysis in many ways. First, by discovering the group that has the highest churn rate, the business could priotize company's resources in targeting the group so that the churn rate can be reduced and in turn increase the company's bottom line. Second, the stakeholders could reap big benefits from gaining business understanding of its customers by customizing its products to each customer so that it can capture a lion's share of the market in their specific domain.\n",
        "\n",
        "###**A3:DATA IDENTIFICATION**\n",
        "\n",
        " From the previous data cleaning processes and by applying the principal components analysis(PCA), the important numerical features of the dataset were selected to indicate their relevance in extracting key insights that the \n",
        "business uses to prevent customers from churning at a higher rate. The relevant variables to answering the proposed question are as follow:\n",
        "* Item1\n",
        "* Bandwidth_GB_Year\n",
        "* Item5\n",
        "* Outage_sec_perweek\n",
        "* Children\n",
        "* Yearly_equip_failure\n",
        "* Income\n",
        "\n",
        "The variables above will be explored and analyzed based using various statistical methods to gain some insights.\n"
      ],
      "metadata": {
        "id": "Egumkl6cnrxZ"
      }
    },
    {
      "cell_type": "markdown",
      "source": [
        "#Importing Libraries and Loading the Dataset"
      ],
      "metadata": {
        "id": "cU7pYqUkrvM2"
      }
    },
    {
      "cell_type": "code",
      "execution_count": null,
      "metadata": {
        "id": "d9xHe-xGk-MM"
      },
      "outputs": [],
      "source": [
        "import pandas as pd\n",
        "import numpy as np\n",
        "import matplotlib.pyplot as plt\n",
        "import seaborn as sns\n",
        "from sklearn.preprocessing import StandardScaler\n",
        "from sklearn.decomposition import PCA\n",
        "sns.set_theme(style=\"darkgrid\")\n",
        "import warnings\n",
        "warnings.filterwarnings('ignore')\n",
        "pd.set_option('max_columns',None)"
      ]
    },
    {
      "cell_type": "code",
      "execution_count": null,
      "metadata": {
        "colab": {
          "base_uri": "https://localhost:8080/",
          "height": 530
        },
        "id": "7pKE2OmCnP_4",
        "outputId": "ec6e38ee-4bfe-4eae-cd90-5401da7ef83a"
      },
      "outputs": [
        {
          "output_type": "execute_result",
          "data": {
            "text/plain": [
              "   CaseOrder Customer_id                           Interaction  \\\n",
              "0          1     K409198  aa90260b-4141-4a24-8e36-b04ce1f4f77b   \n",
              "1          2     S120509  fb76459f-c047-4a9d-8af9-e0f7d4ac2524   \n",
              "2          3     K191035  344d114c-3736-4be5-98f7-c72c281e2d35   \n",
              "3          4      D90850  abfa2b40-2d43-4994-b15a-989b8c79e311   \n",
              "4          5     K662701  68a861fd-0d20-4e51-a587-8a90407ee574   \n",
              "\n",
              "                                UID         City State                 County  \\\n",
              "0  e885b299883d4f9fb18e39c75155d990  Point Baker    AK  Prince of Wales-Hyder   \n",
              "1  f2de8bef964785f41a2959829830fb8a  West Branch    MI                 Ogemaw   \n",
              "2  f1784cfa9f6d92ae816197eb175d3c71      Yamhill    OR                Yamhill   \n",
              "3  dc8a365077241bb5cd5ccd305136b05e      Del Mar    CA              San Diego   \n",
              "4  aabb64a116e83fdc4befc1fbab1663f9    Needville    TX              Fort Bend   \n",
              "\n",
              "     Zip       Lat        Lng  Population      Area             TimeZone  \\\n",
              "0  99927  56.25100 -133.37571          38     Urban        America/Sitka   \n",
              "1  48661  44.32893  -84.24080       10446     Urban      America/Detroit   \n",
              "2  97148  45.35589 -123.24657        3735     Urban  America/Los_Angeles   \n",
              "3  92014  32.96687 -117.24798       13863  Suburban  America/Los_Angeles   \n",
              "4  77461  29.38012  -95.80673       11352  Suburban      America/Chicago   \n",
              "\n",
              "                                 Job  Children  Age    Income    Marital  \\\n",
              "0  Environmental health practitioner         0   68  28561.99    Widowed   \n",
              "1             Programmer, multimedia         1   27  21704.77    Married   \n",
              "2            Chief Financial Officer         4   50   9609.57    Widowed   \n",
              "3                          Solicitor         1   48  18925.23    Married   \n",
              "4                Medical illustrator         0   83  40074.19  Separated   \n",
              "\n",
              "   Gender Churn  Outage_sec_perweek  Email  Contacts  Yearly_equip_failure  \\\n",
              "0    Male    No            7.978323     10         0                     1   \n",
              "1  Female   Yes           11.699080     12         0                     1   \n",
              "2  Female    No           10.752800      9         0                     1   \n",
              "3    Male    No           14.913540     15         2                     0   \n",
              "4    Male   Yes            8.147417     16         2                     1   \n",
              "\n",
              "  Techie        Contract Port_modem Tablet InternetService Phone Multiple  \\\n",
              "0     No        One year        Yes    Yes     Fiber Optic   Yes       No   \n",
              "1    Yes  Month-to-month         No    Yes     Fiber Optic   Yes      Yes   \n",
              "2    Yes        Two Year        Yes     No             DSL   Yes      Yes   \n",
              "3    Yes        Two Year         No     No             DSL   Yes       No   \n",
              "4     No  Month-to-month        Yes     No     Fiber Optic    No       No   \n",
              "\n",
              "  OnlineSecurity OnlineBackup DeviceProtection TechSupport StreamingTV  \\\n",
              "0            Yes          Yes               No          No          No   \n",
              "1            Yes           No               No          No         Yes   \n",
              "2             No           No               No          No          No   \n",
              "3            Yes           No               No          No         Yes   \n",
              "4             No           No               No         Yes         Yes   \n",
              "\n",
              "  StreamingMovies PaperlessBilling             PaymentMethod     Tenure  \\\n",
              "0             Yes              Yes   Credit Card (automatic)   6.795513   \n",
              "1             Yes              Yes  Bank Transfer(automatic)   1.156681   \n",
              "2             Yes              Yes   Credit Card (automatic)  15.754144   \n",
              "3              No              Yes              Mailed Check  17.087227   \n",
              "4              No               No              Mailed Check   1.670972   \n",
              "\n",
              "   MonthlyCharge  Bandwidth_GB_Year  Item1  Item2  Item3  Item4  Item5  Item6  \\\n",
              "0     172.455519         904.536110      5      5      5      3      4      4   \n",
              "1     242.632554         800.982766      3      4      3      3      4      3   \n",
              "2     159.947583        2054.706961      4      4      2      4      4      3   \n",
              "3     119.956840        2164.579412      4      4      4      2      5      4   \n",
              "4     149.948316         271.493436      4      4      4      3      4      4   \n",
              "\n",
              "   Item7  Item8  \n",
              "0      3      4  \n",
              "1      4      4  \n",
              "2      3      3  \n",
              "3      3      3  \n",
              "4      4      5  "
            ],
            "text/html": [
              "\n",
              "  <div id=\"df-bf837ea8-b499-4c02-8680-46285767a341\">\n",
              "    <div class=\"colab-df-container\">\n",
              "      <div>\n",
              "<style scoped>\n",
              "    .dataframe tbody tr th:only-of-type {\n",
              "        vertical-align: middle;\n",
              "    }\n",
              "\n",
              "    .dataframe tbody tr th {\n",
              "        vertical-align: top;\n",
              "    }\n",
              "\n",
              "    .dataframe thead th {\n",
              "        text-align: right;\n",
              "    }\n",
              "</style>\n",
              "<table border=\"1\" class=\"dataframe\">\n",
              "  <thead>\n",
              "    <tr style=\"text-align: right;\">\n",
              "      <th></th>\n",
              "      <th>CaseOrder</th>\n",
              "      <th>Customer_id</th>\n",
              "      <th>Interaction</th>\n",
              "      <th>UID</th>\n",
              "      <th>City</th>\n",
              "      <th>State</th>\n",
              "      <th>County</th>\n",
              "      <th>Zip</th>\n",
              "      <th>Lat</th>\n",
              "      <th>Lng</th>\n",
              "      <th>Population</th>\n",
              "      <th>Area</th>\n",
              "      <th>TimeZone</th>\n",
              "      <th>Job</th>\n",
              "      <th>Children</th>\n",
              "      <th>Age</th>\n",
              "      <th>Income</th>\n",
              "      <th>Marital</th>\n",
              "      <th>Gender</th>\n",
              "      <th>Churn</th>\n",
              "      <th>Outage_sec_perweek</th>\n",
              "      <th>Email</th>\n",
              "      <th>Contacts</th>\n",
              "      <th>Yearly_equip_failure</th>\n",
              "      <th>Techie</th>\n",
              "      <th>Contract</th>\n",
              "      <th>Port_modem</th>\n",
              "      <th>Tablet</th>\n",
              "      <th>InternetService</th>\n",
              "      <th>Phone</th>\n",
              "      <th>Multiple</th>\n",
              "      <th>OnlineSecurity</th>\n",
              "      <th>OnlineBackup</th>\n",
              "      <th>DeviceProtection</th>\n",
              "      <th>TechSupport</th>\n",
              "      <th>StreamingTV</th>\n",
              "      <th>StreamingMovies</th>\n",
              "      <th>PaperlessBilling</th>\n",
              "      <th>PaymentMethod</th>\n",
              "      <th>Tenure</th>\n",
              "      <th>MonthlyCharge</th>\n",
              "      <th>Bandwidth_GB_Year</th>\n",
              "      <th>Item1</th>\n",
              "      <th>Item2</th>\n",
              "      <th>Item3</th>\n",
              "      <th>Item4</th>\n",
              "      <th>Item5</th>\n",
              "      <th>Item6</th>\n",
              "      <th>Item7</th>\n",
              "      <th>Item8</th>\n",
              "    </tr>\n",
              "  </thead>\n",
              "  <tbody>\n",
              "    <tr>\n",
              "      <th>0</th>\n",
              "      <td>1</td>\n",
              "      <td>K409198</td>\n",
              "      <td>aa90260b-4141-4a24-8e36-b04ce1f4f77b</td>\n",
              "      <td>e885b299883d4f9fb18e39c75155d990</td>\n",
              "      <td>Point Baker</td>\n",
              "      <td>AK</td>\n",
              "      <td>Prince of Wales-Hyder</td>\n",
              "      <td>99927</td>\n",
              "      <td>56.25100</td>\n",
              "      <td>-133.37571</td>\n",
              "      <td>38</td>\n",
              "      <td>Urban</td>\n",
              "      <td>America/Sitka</td>\n",
              "      <td>Environmental health practitioner</td>\n",
              "      <td>0</td>\n",
              "      <td>68</td>\n",
              "      <td>28561.99</td>\n",
              "      <td>Widowed</td>\n",
              "      <td>Male</td>\n",
              "      <td>No</td>\n",
              "      <td>7.978323</td>\n",
              "      <td>10</td>\n",
              "      <td>0</td>\n",
              "      <td>1</td>\n",
              "      <td>No</td>\n",
              "      <td>One year</td>\n",
              "      <td>Yes</td>\n",
              "      <td>Yes</td>\n",
              "      <td>Fiber Optic</td>\n",
              "      <td>Yes</td>\n",
              "      <td>No</td>\n",
              "      <td>Yes</td>\n",
              "      <td>Yes</td>\n",
              "      <td>No</td>\n",
              "      <td>No</td>\n",
              "      <td>No</td>\n",
              "      <td>Yes</td>\n",
              "      <td>Yes</td>\n",
              "      <td>Credit Card (automatic)</td>\n",
              "      <td>6.795513</td>\n",
              "      <td>172.455519</td>\n",
              "      <td>904.536110</td>\n",
              "      <td>5</td>\n",
              "      <td>5</td>\n",
              "      <td>5</td>\n",
              "      <td>3</td>\n",
              "      <td>4</td>\n",
              "      <td>4</td>\n",
              "      <td>3</td>\n",
              "      <td>4</td>\n",
              "    </tr>\n",
              "    <tr>\n",
              "      <th>1</th>\n",
              "      <td>2</td>\n",
              "      <td>S120509</td>\n",
              "      <td>fb76459f-c047-4a9d-8af9-e0f7d4ac2524</td>\n",
              "      <td>f2de8bef964785f41a2959829830fb8a</td>\n",
              "      <td>West Branch</td>\n",
              "      <td>MI</td>\n",
              "      <td>Ogemaw</td>\n",
              "      <td>48661</td>\n",
              "      <td>44.32893</td>\n",
              "      <td>-84.24080</td>\n",
              "      <td>10446</td>\n",
              "      <td>Urban</td>\n",
              "      <td>America/Detroit</td>\n",
              "      <td>Programmer, multimedia</td>\n",
              "      <td>1</td>\n",
              "      <td>27</td>\n",
              "      <td>21704.77</td>\n",
              "      <td>Married</td>\n",
              "      <td>Female</td>\n",
              "      <td>Yes</td>\n",
              "      <td>11.699080</td>\n",
              "      <td>12</td>\n",
              "      <td>0</td>\n",
              "      <td>1</td>\n",
              "      <td>Yes</td>\n",
              "      <td>Month-to-month</td>\n",
              "      <td>No</td>\n",
              "      <td>Yes</td>\n",
              "      <td>Fiber Optic</td>\n",
              "      <td>Yes</td>\n",
              "      <td>Yes</td>\n",
              "      <td>Yes</td>\n",
              "      <td>No</td>\n",
              "      <td>No</td>\n",
              "      <td>No</td>\n",
              "      <td>Yes</td>\n",
              "      <td>Yes</td>\n",
              "      <td>Yes</td>\n",
              "      <td>Bank Transfer(automatic)</td>\n",
              "      <td>1.156681</td>\n",
              "      <td>242.632554</td>\n",
              "      <td>800.982766</td>\n",
              "      <td>3</td>\n",
              "      <td>4</td>\n",
              "      <td>3</td>\n",
              "      <td>3</td>\n",
              "      <td>4</td>\n",
              "      <td>3</td>\n",
              "      <td>4</td>\n",
              "      <td>4</td>\n",
              "    </tr>\n",
              "    <tr>\n",
              "      <th>2</th>\n",
              "      <td>3</td>\n",
              "      <td>K191035</td>\n",
              "      <td>344d114c-3736-4be5-98f7-c72c281e2d35</td>\n",
              "      <td>f1784cfa9f6d92ae816197eb175d3c71</td>\n",
              "      <td>Yamhill</td>\n",
              "      <td>OR</td>\n",
              "      <td>Yamhill</td>\n",
              "      <td>97148</td>\n",
              "      <td>45.35589</td>\n",
              "      <td>-123.24657</td>\n",
              "      <td>3735</td>\n",
              "      <td>Urban</td>\n",
              "      <td>America/Los_Angeles</td>\n",
              "      <td>Chief Financial Officer</td>\n",
              "      <td>4</td>\n",
              "      <td>50</td>\n",
              "      <td>9609.57</td>\n",
              "      <td>Widowed</td>\n",
              "      <td>Female</td>\n",
              "      <td>No</td>\n",
              "      <td>10.752800</td>\n",
              "      <td>9</td>\n",
              "      <td>0</td>\n",
              "      <td>1</td>\n",
              "      <td>Yes</td>\n",
              "      <td>Two Year</td>\n",
              "      <td>Yes</td>\n",
              "      <td>No</td>\n",
              "      <td>DSL</td>\n",
              "      <td>Yes</td>\n",
              "      <td>Yes</td>\n",
              "      <td>No</td>\n",
              "      <td>No</td>\n",
              "      <td>No</td>\n",
              "      <td>No</td>\n",
              "      <td>No</td>\n",
              "      <td>Yes</td>\n",
              "      <td>Yes</td>\n",
              "      <td>Credit Card (automatic)</td>\n",
              "      <td>15.754144</td>\n",
              "      <td>159.947583</td>\n",
              "      <td>2054.706961</td>\n",
              "      <td>4</td>\n",
              "      <td>4</td>\n",
              "      <td>2</td>\n",
              "      <td>4</td>\n",
              "      <td>4</td>\n",
              "      <td>3</td>\n",
              "      <td>3</td>\n",
              "      <td>3</td>\n",
              "    </tr>\n",
              "    <tr>\n",
              "      <th>3</th>\n",
              "      <td>4</td>\n",
              "      <td>D90850</td>\n",
              "      <td>abfa2b40-2d43-4994-b15a-989b8c79e311</td>\n",
              "      <td>dc8a365077241bb5cd5ccd305136b05e</td>\n",
              "      <td>Del Mar</td>\n",
              "      <td>CA</td>\n",
              "      <td>San Diego</td>\n",
              "      <td>92014</td>\n",
              "      <td>32.96687</td>\n",
              "      <td>-117.24798</td>\n",
              "      <td>13863</td>\n",
              "      <td>Suburban</td>\n",
              "      <td>America/Los_Angeles</td>\n",
              "      <td>Solicitor</td>\n",
              "      <td>1</td>\n",
              "      <td>48</td>\n",
              "      <td>18925.23</td>\n",
              "      <td>Married</td>\n",
              "      <td>Male</td>\n",
              "      <td>No</td>\n",
              "      <td>14.913540</td>\n",
              "      <td>15</td>\n",
              "      <td>2</td>\n",
              "      <td>0</td>\n",
              "      <td>Yes</td>\n",
              "      <td>Two Year</td>\n",
              "      <td>No</td>\n",
              "      <td>No</td>\n",
              "      <td>DSL</td>\n",
              "      <td>Yes</td>\n",
              "      <td>No</td>\n",
              "      <td>Yes</td>\n",
              "      <td>No</td>\n",
              "      <td>No</td>\n",
              "      <td>No</td>\n",
              "      <td>Yes</td>\n",
              "      <td>No</td>\n",
              "      <td>Yes</td>\n",
              "      <td>Mailed Check</td>\n",
              "      <td>17.087227</td>\n",
              "      <td>119.956840</td>\n",
              "      <td>2164.579412</td>\n",
              "      <td>4</td>\n",
              "      <td>4</td>\n",
              "      <td>4</td>\n",
              "      <td>2</td>\n",
              "      <td>5</td>\n",
              "      <td>4</td>\n",
              "      <td>3</td>\n",
              "      <td>3</td>\n",
              "    </tr>\n",
              "    <tr>\n",
              "      <th>4</th>\n",
              "      <td>5</td>\n",
              "      <td>K662701</td>\n",
              "      <td>68a861fd-0d20-4e51-a587-8a90407ee574</td>\n",
              "      <td>aabb64a116e83fdc4befc1fbab1663f9</td>\n",
              "      <td>Needville</td>\n",
              "      <td>TX</td>\n",
              "      <td>Fort Bend</td>\n",
              "      <td>77461</td>\n",
              "      <td>29.38012</td>\n",
              "      <td>-95.80673</td>\n",
              "      <td>11352</td>\n",
              "      <td>Suburban</td>\n",
              "      <td>America/Chicago</td>\n",
              "      <td>Medical illustrator</td>\n",
              "      <td>0</td>\n",
              "      <td>83</td>\n",
              "      <td>40074.19</td>\n",
              "      <td>Separated</td>\n",
              "      <td>Male</td>\n",
              "      <td>Yes</td>\n",
              "      <td>8.147417</td>\n",
              "      <td>16</td>\n",
              "      <td>2</td>\n",
              "      <td>1</td>\n",
              "      <td>No</td>\n",
              "      <td>Month-to-month</td>\n",
              "      <td>Yes</td>\n",
              "      <td>No</td>\n",
              "      <td>Fiber Optic</td>\n",
              "      <td>No</td>\n",
              "      <td>No</td>\n",
              "      <td>No</td>\n",
              "      <td>No</td>\n",
              "      <td>No</td>\n",
              "      <td>Yes</td>\n",
              "      <td>Yes</td>\n",
              "      <td>No</td>\n",
              "      <td>No</td>\n",
              "      <td>Mailed Check</td>\n",
              "      <td>1.670972</td>\n",
              "      <td>149.948316</td>\n",
              "      <td>271.493436</td>\n",
              "      <td>4</td>\n",
              "      <td>4</td>\n",
              "      <td>4</td>\n",
              "      <td>3</td>\n",
              "      <td>4</td>\n",
              "      <td>4</td>\n",
              "      <td>4</td>\n",
              "      <td>5</td>\n",
              "    </tr>\n",
              "  </tbody>\n",
              "</table>\n",
              "</div>\n",
              "      <button class=\"colab-df-convert\" onclick=\"convertToInteractive('df-bf837ea8-b499-4c02-8680-46285767a341')\"\n",
              "              title=\"Convert this dataframe to an interactive table.\"\n",
              "              style=\"display:none;\">\n",
              "        \n",
              "  <svg xmlns=\"http://www.w3.org/2000/svg\" height=\"24px\"viewBox=\"0 0 24 24\"\n",
              "       width=\"24px\">\n",
              "    <path d=\"M0 0h24v24H0V0z\" fill=\"none\"/>\n",
              "    <path d=\"M18.56 5.44l.94 2.06.94-2.06 2.06-.94-2.06-.94-.94-2.06-.94 2.06-2.06.94zm-11 1L8.5 8.5l.94-2.06 2.06-.94-2.06-.94L8.5 2.5l-.94 2.06-2.06.94zm10 10l.94 2.06.94-2.06 2.06-.94-2.06-.94-.94-2.06-.94 2.06-2.06.94z\"/><path d=\"M17.41 7.96l-1.37-1.37c-.4-.4-.92-.59-1.43-.59-.52 0-1.04.2-1.43.59L10.3 9.45l-7.72 7.72c-.78.78-.78 2.05 0 2.83L4 21.41c.39.39.9.59 1.41.59.51 0 1.02-.2 1.41-.59l7.78-7.78 2.81-2.81c.8-.78.8-2.07 0-2.86zM5.41 20L4 18.59l7.72-7.72 1.47 1.35L5.41 20z\"/>\n",
              "  </svg>\n",
              "      </button>\n",
              "      \n",
              "  <style>\n",
              "    .colab-df-container {\n",
              "      display:flex;\n",
              "      flex-wrap:wrap;\n",
              "      gap: 12px;\n",
              "    }\n",
              "\n",
              "    .colab-df-convert {\n",
              "      background-color: #E8F0FE;\n",
              "      border: none;\n",
              "      border-radius: 50%;\n",
              "      cursor: pointer;\n",
              "      display: none;\n",
              "      fill: #1967D2;\n",
              "      height: 32px;\n",
              "      padding: 0 0 0 0;\n",
              "      width: 32px;\n",
              "    }\n",
              "\n",
              "    .colab-df-convert:hover {\n",
              "      background-color: #E2EBFA;\n",
              "      box-shadow: 0px 1px 2px rgba(60, 64, 67, 0.3), 0px 1px 3px 1px rgba(60, 64, 67, 0.15);\n",
              "      fill: #174EA6;\n",
              "    }\n",
              "\n",
              "    [theme=dark] .colab-df-convert {\n",
              "      background-color: #3B4455;\n",
              "      fill: #D2E3FC;\n",
              "    }\n",
              "\n",
              "    [theme=dark] .colab-df-convert:hover {\n",
              "      background-color: #434B5C;\n",
              "      box-shadow: 0px 1px 3px 1px rgba(0, 0, 0, 0.15);\n",
              "      filter: drop-shadow(0px 1px 2px rgba(0, 0, 0, 0.3));\n",
              "      fill: #FFFFFF;\n",
              "    }\n",
              "  </style>\n",
              "\n",
              "      <script>\n",
              "        const buttonEl =\n",
              "          document.querySelector('#df-bf837ea8-b499-4c02-8680-46285767a341 button.colab-df-convert');\n",
              "        buttonEl.style.display =\n",
              "          google.colab.kernel.accessAllowed ? 'block' : 'none';\n",
              "\n",
              "        async function convertToInteractive(key) {\n",
              "          const element = document.querySelector('#df-bf837ea8-b499-4c02-8680-46285767a341');\n",
              "          const dataTable =\n",
              "            await google.colab.kernel.invokeFunction('convertToInteractive',\n",
              "                                                     [key], {});\n",
              "          if (!dataTable) return;\n",
              "\n",
              "          const docLinkHtml = 'Like what you see? Visit the ' +\n",
              "            '<a target=\"_blank\" href=https://colab.research.google.com/notebooks/data_table.ipynb>data table notebook</a>'\n",
              "            + ' to learn more about interactive tables.';\n",
              "          element.innerHTML = '';\n",
              "          dataTable['output_type'] = 'display_data';\n",
              "          await google.colab.output.renderOutput(dataTable, element);\n",
              "          const docLink = document.createElement('div');\n",
              "          docLink.innerHTML = docLinkHtml;\n",
              "          element.appendChild(docLink);\n",
              "        }\n",
              "      </script>\n",
              "    </div>\n",
              "  </div>\n",
              "  "
            ]
          },
          "metadata": {},
          "execution_count": 20
        }
      ],
      "source": [
        "cleaned_churn = pd.read_csv('/content/drive/MyDrive/Telecom Churn Data/churn_clean.csv')\n",
        "cleaned_churn.head()"
      ]
    },
    {
      "cell_type": "markdown",
      "source": [
        "###**B1:CODE**\n",
        "\n",
        "The chi-square will be used for the analysis.\n",
        "\n",
        "\n",
        "\n",
        "\n",
        "\n",
        " "
      ],
      "metadata": {
        "id": "1saD7sEJq8wy"
      }
    },
    {
      "cell_type": "markdown",
      "source": [
        ""
      ],
      "metadata": {
        "id": "lJGCc5nFP-_T"
      }
    },
    {
      "cell_type": "code",
      "source": [
        "import scipy.stats as stats\n",
        "from scipy.stats import chi2_contingency\n",
        "\n",
        "cont_table = pd.crosstab(cleaned_churn['Churn'], cleaned_churn['Contract'])\n",
        "\n"
      ],
      "metadata": {
        "id": "dZAW1zmi7RDl"
      },
      "execution_count": null,
      "outputs": []
    },
    {
      "cell_type": "markdown",
      "source": [
        "###**B2:OUTPUT**"
      ],
      "metadata": {
        "id": "foUiwEJH8PPE"
      }
    },
    {
      "cell_type": "code",
      "source": [
        "cont_table"
      ],
      "metadata": {
        "colab": {
          "base_uri": "https://localhost:8080/",
          "height": 143
        },
        "id": "Vb6hA_qE8979",
        "outputId": "610d4d69-d0c0-46f9-a73c-b14edd94b424"
      },
      "execution_count": null,
      "outputs": [
        {
          "output_type": "execute_result",
          "data": {
            "text/plain": [
              "Contract  Month-to-month  One year  Two Year\n",
              "Churn                                       \n",
              "No                  3422      1795      2133\n",
              "Yes                 2034       307       309"
            ],
            "text/html": [
              "\n",
              "  <div id=\"df-2eae5cd2-4b3b-4e60-ad61-a801ecadfa77\">\n",
              "    <div class=\"colab-df-container\">\n",
              "      <div>\n",
              "<style scoped>\n",
              "    .dataframe tbody tr th:only-of-type {\n",
              "        vertical-align: middle;\n",
              "    }\n",
              "\n",
              "    .dataframe tbody tr th {\n",
              "        vertical-align: top;\n",
              "    }\n",
              "\n",
              "    .dataframe thead th {\n",
              "        text-align: right;\n",
              "    }\n",
              "</style>\n",
              "<table border=\"1\" class=\"dataframe\">\n",
              "  <thead>\n",
              "    <tr style=\"text-align: right;\">\n",
              "      <th>Contract</th>\n",
              "      <th>Month-to-month</th>\n",
              "      <th>One year</th>\n",
              "      <th>Two Year</th>\n",
              "    </tr>\n",
              "    <tr>\n",
              "      <th>Churn</th>\n",
              "      <th></th>\n",
              "      <th></th>\n",
              "      <th></th>\n",
              "    </tr>\n",
              "  </thead>\n",
              "  <tbody>\n",
              "    <tr>\n",
              "      <th>No</th>\n",
              "      <td>3422</td>\n",
              "      <td>1795</td>\n",
              "      <td>2133</td>\n",
              "    </tr>\n",
              "    <tr>\n",
              "      <th>Yes</th>\n",
              "      <td>2034</td>\n",
              "      <td>307</td>\n",
              "      <td>309</td>\n",
              "    </tr>\n",
              "  </tbody>\n",
              "</table>\n",
              "</div>\n",
              "      <button class=\"colab-df-convert\" onclick=\"convertToInteractive('df-2eae5cd2-4b3b-4e60-ad61-a801ecadfa77')\"\n",
              "              title=\"Convert this dataframe to an interactive table.\"\n",
              "              style=\"display:none;\">\n",
              "        \n",
              "  <svg xmlns=\"http://www.w3.org/2000/svg\" height=\"24px\"viewBox=\"0 0 24 24\"\n",
              "       width=\"24px\">\n",
              "    <path d=\"M0 0h24v24H0V0z\" fill=\"none\"/>\n",
              "    <path d=\"M18.56 5.44l.94 2.06.94-2.06 2.06-.94-2.06-.94-.94-2.06-.94 2.06-2.06.94zm-11 1L8.5 8.5l.94-2.06 2.06-.94-2.06-.94L8.5 2.5l-.94 2.06-2.06.94zm10 10l.94 2.06.94-2.06 2.06-.94-2.06-.94-.94-2.06-.94 2.06-2.06.94z\"/><path d=\"M17.41 7.96l-1.37-1.37c-.4-.4-.92-.59-1.43-.59-.52 0-1.04.2-1.43.59L10.3 9.45l-7.72 7.72c-.78.78-.78 2.05 0 2.83L4 21.41c.39.39.9.59 1.41.59.51 0 1.02-.2 1.41-.59l7.78-7.78 2.81-2.81c.8-.78.8-2.07 0-2.86zM5.41 20L4 18.59l7.72-7.72 1.47 1.35L5.41 20z\"/>\n",
              "  </svg>\n",
              "      </button>\n",
              "      \n",
              "  <style>\n",
              "    .colab-df-container {\n",
              "      display:flex;\n",
              "      flex-wrap:wrap;\n",
              "      gap: 12px;\n",
              "    }\n",
              "\n",
              "    .colab-df-convert {\n",
              "      background-color: #E8F0FE;\n",
              "      border: none;\n",
              "      border-radius: 50%;\n",
              "      cursor: pointer;\n",
              "      display: none;\n",
              "      fill: #1967D2;\n",
              "      height: 32px;\n",
              "      padding: 0 0 0 0;\n",
              "      width: 32px;\n",
              "    }\n",
              "\n",
              "    .colab-df-convert:hover {\n",
              "      background-color: #E2EBFA;\n",
              "      box-shadow: 0px 1px 2px rgba(60, 64, 67, 0.3), 0px 1px 3px 1px rgba(60, 64, 67, 0.15);\n",
              "      fill: #174EA6;\n",
              "    }\n",
              "\n",
              "    [theme=dark] .colab-df-convert {\n",
              "      background-color: #3B4455;\n",
              "      fill: #D2E3FC;\n",
              "    }\n",
              "\n",
              "    [theme=dark] .colab-df-convert:hover {\n",
              "      background-color: #434B5C;\n",
              "      box-shadow: 0px 1px 3px 1px rgba(0, 0, 0, 0.15);\n",
              "      filter: drop-shadow(0px 1px 2px rgba(0, 0, 0, 0.3));\n",
              "      fill: #FFFFFF;\n",
              "    }\n",
              "  </style>\n",
              "\n",
              "      <script>\n",
              "        const buttonEl =\n",
              "          document.querySelector('#df-2eae5cd2-4b3b-4e60-ad61-a801ecadfa77 button.colab-df-convert');\n",
              "        buttonEl.style.display =\n",
              "          google.colab.kernel.accessAllowed ? 'block' : 'none';\n",
              "\n",
              "        async function convertToInteractive(key) {\n",
              "          const element = document.querySelector('#df-2eae5cd2-4b3b-4e60-ad61-a801ecadfa77');\n",
              "          const dataTable =\n",
              "            await google.colab.kernel.invokeFunction('convertToInteractive',\n",
              "                                                     [key], {});\n",
              "          if (!dataTable) return;\n",
              "\n",
              "          const docLinkHtml = 'Like what you see? Visit the ' +\n",
              "            '<a target=\"_blank\" href=https://colab.research.google.com/notebooks/data_table.ipynb>data table notebook</a>'\n",
              "            + ' to learn more about interactive tables.';\n",
              "          element.innerHTML = '';\n",
              "          dataTable['output_type'] = 'display_data';\n",
              "          await google.colab.output.renderOutput(dataTable, element);\n",
              "          const docLink = document.createElement('div');\n",
              "          docLink.innerHTML = docLinkHtml;\n",
              "          element.appendChild(docLink);\n",
              "        }\n",
              "      </script>\n",
              "    </div>\n",
              "  </div>\n",
              "  "
            ]
          },
          "metadata": {},
          "execution_count": 22
        }
      ]
    },
    {
      "cell_type": "code",
      "source": [
        "observed_values = cont_table.values\n",
        "print('Observed Values: \\n', observed_values)"
      ],
      "metadata": {
        "colab": {
          "base_uri": "https://localhost:8080/"
        },
        "id": "qlPSbcRSGntV",
        "outputId": "eceb0e1a-ed17-4755-ff30-740944516456"
      },
      "execution_count": null,
      "outputs": [
        {
          "output_type": "stream",
          "name": "stdout",
          "text": [
            "Observed Values: \n",
            " [[3422 1795 2133]\n",
            " [2034  307  309]]\n"
          ]
        }
      ]
    },
    {
      "cell_type": "code",
      "source": [
        "chi_square, p_value, df, expected_values = chi2_contingency(cont_table)"
      ],
      "metadata": {
        "id": "9BObqnwrHaLi"
      },
      "execution_count": null,
      "outputs": []
    },
    {
      "cell_type": "code",
      "source": [
        "pd.set_option('display.max_colwidth', None)\n",
        "df = pd.DataFrame(chi2_contingency(cont_table), index=pd.Index(['Chi-sq', 'p-value', 'Degree of Freedom','Expected_values'],name='Statistics'), columns=pd.Index(['Values']))\n",
        "df\n"
      ],
      "metadata": {
        "colab": {
          "base_uri": "https://localhost:8080/",
          "height": 206
        },
        "id": "F6pWvi3pU4aF",
        "outputId": "c8d12a68-91bc-45c2-a7db-068b1709be78"
      },
      "execution_count": null,
      "outputs": [
        {
          "output_type": "execute_result",
          "data": {
            "text/plain": [
              "                                                                     Values\n",
              "Statistics                                                                 \n",
              "Chi-sq                                                           718.591581\n",
              "p-value                                                                 0.0\n",
              "Degree of Freedom                                                         2\n",
              "Expected_values    [[4010.16, 1544.97, 1794.87], [1445.84, 557.03, 647.13]]"
            ],
            "text/html": [
              "\n",
              "  <div id=\"df-e107d222-9c98-4b5d-a155-99d1b83b10a5\">\n",
              "    <div class=\"colab-df-container\">\n",
              "      <div>\n",
              "<style scoped>\n",
              "    .dataframe tbody tr th:only-of-type {\n",
              "        vertical-align: middle;\n",
              "    }\n",
              "\n",
              "    .dataframe tbody tr th {\n",
              "        vertical-align: top;\n",
              "    }\n",
              "\n",
              "    .dataframe thead th {\n",
              "        text-align: right;\n",
              "    }\n",
              "</style>\n",
              "<table border=\"1\" class=\"dataframe\">\n",
              "  <thead>\n",
              "    <tr style=\"text-align: right;\">\n",
              "      <th></th>\n",
              "      <th>Values</th>\n",
              "    </tr>\n",
              "    <tr>\n",
              "      <th>Statistics</th>\n",
              "      <th></th>\n",
              "    </tr>\n",
              "  </thead>\n",
              "  <tbody>\n",
              "    <tr>\n",
              "      <th>Chi-sq</th>\n",
              "      <td>718.591581</td>\n",
              "    </tr>\n",
              "    <tr>\n",
              "      <th>p-value</th>\n",
              "      <td>0.0</td>\n",
              "    </tr>\n",
              "    <tr>\n",
              "      <th>Degree of Freedom</th>\n",
              "      <td>2</td>\n",
              "    </tr>\n",
              "    <tr>\n",
              "      <th>Expected_values</th>\n",
              "      <td>[[4010.16, 1544.97, 1794.87], [1445.84, 557.03, 647.13]]</td>\n",
              "    </tr>\n",
              "  </tbody>\n",
              "</table>\n",
              "</div>\n",
              "      <button class=\"colab-df-convert\" onclick=\"convertToInteractive('df-e107d222-9c98-4b5d-a155-99d1b83b10a5')\"\n",
              "              title=\"Convert this dataframe to an interactive table.\"\n",
              "              style=\"display:none;\">\n",
              "        \n",
              "  <svg xmlns=\"http://www.w3.org/2000/svg\" height=\"24px\"viewBox=\"0 0 24 24\"\n",
              "       width=\"24px\">\n",
              "    <path d=\"M0 0h24v24H0V0z\" fill=\"none\"/>\n",
              "    <path d=\"M18.56 5.44l.94 2.06.94-2.06 2.06-.94-2.06-.94-.94-2.06-.94 2.06-2.06.94zm-11 1L8.5 8.5l.94-2.06 2.06-.94-2.06-.94L8.5 2.5l-.94 2.06-2.06.94zm10 10l.94 2.06.94-2.06 2.06-.94-2.06-.94-.94-2.06-.94 2.06-2.06.94z\"/><path d=\"M17.41 7.96l-1.37-1.37c-.4-.4-.92-.59-1.43-.59-.52 0-1.04.2-1.43.59L10.3 9.45l-7.72 7.72c-.78.78-.78 2.05 0 2.83L4 21.41c.39.39.9.59 1.41.59.51 0 1.02-.2 1.41-.59l7.78-7.78 2.81-2.81c.8-.78.8-2.07 0-2.86zM5.41 20L4 18.59l7.72-7.72 1.47 1.35L5.41 20z\"/>\n",
              "  </svg>\n",
              "      </button>\n",
              "      \n",
              "  <style>\n",
              "    .colab-df-container {\n",
              "      display:flex;\n",
              "      flex-wrap:wrap;\n",
              "      gap: 12px;\n",
              "    }\n",
              "\n",
              "    .colab-df-convert {\n",
              "      background-color: #E8F0FE;\n",
              "      border: none;\n",
              "      border-radius: 50%;\n",
              "      cursor: pointer;\n",
              "      display: none;\n",
              "      fill: #1967D2;\n",
              "      height: 32px;\n",
              "      padding: 0 0 0 0;\n",
              "      width: 32px;\n",
              "    }\n",
              "\n",
              "    .colab-df-convert:hover {\n",
              "      background-color: #E2EBFA;\n",
              "      box-shadow: 0px 1px 2px rgba(60, 64, 67, 0.3), 0px 1px 3px 1px rgba(60, 64, 67, 0.15);\n",
              "      fill: #174EA6;\n",
              "    }\n",
              "\n",
              "    [theme=dark] .colab-df-convert {\n",
              "      background-color: #3B4455;\n",
              "      fill: #D2E3FC;\n",
              "    }\n",
              "\n",
              "    [theme=dark] .colab-df-convert:hover {\n",
              "      background-color: #434B5C;\n",
              "      box-shadow: 0px 1px 3px 1px rgba(0, 0, 0, 0.15);\n",
              "      filter: drop-shadow(0px 1px 2px rgba(0, 0, 0, 0.3));\n",
              "      fill: #FFFFFF;\n",
              "    }\n",
              "  </style>\n",
              "\n",
              "      <script>\n",
              "        const buttonEl =\n",
              "          document.querySelector('#df-e107d222-9c98-4b5d-a155-99d1b83b10a5 button.colab-df-convert');\n",
              "        buttonEl.style.display =\n",
              "          google.colab.kernel.accessAllowed ? 'block' : 'none';\n",
              "\n",
              "        async function convertToInteractive(key) {\n",
              "          const element = document.querySelector('#df-e107d222-9c98-4b5d-a155-99d1b83b10a5');\n",
              "          const dataTable =\n",
              "            await google.colab.kernel.invokeFunction('convertToInteractive',\n",
              "                                                     [key], {});\n",
              "          if (!dataTable) return;\n",
              "\n",
              "          const docLinkHtml = 'Like what you see? Visit the ' +\n",
              "            '<a target=\"_blank\" href=https://colab.research.google.com/notebooks/data_table.ipynb>data table notebook</a>'\n",
              "            + ' to learn more about interactive tables.';\n",
              "          element.innerHTML = '';\n",
              "          dataTable['output_type'] = 'display_data';\n",
              "          await google.colab.output.renderOutput(dataTable, element);\n",
              "          const docLink = document.createElement('div');\n",
              "          docLink.innerHTML = docLinkHtml;\n",
              "          element.appendChild(docLink);\n",
              "        }\n",
              "      </script>\n",
              "    </div>\n",
              "  </div>\n",
              "  "
            ]
          },
          "metadata": {},
          "execution_count": 25
        }
      ]
    },
    {
      "cell_type": "code",
      "source": [
        "# Testing the hypotheses using the p-value obtained\n",
        "if df['Values'][1] < 0.05:\n",
        "  print('We reject the null hypothesis')\n",
        "else:\n",
        "\n",
        "  print('We fail to reject the null hypothesis')"
      ],
      "metadata": {
        "colab": {
          "base_uri": "https://localhost:8080/"
        },
        "id": "NPmyyPILbt1p",
        "outputId": "2d2b61f1-76fb-48df-d341-a3f52f538639"
      },
      "execution_count": null,
      "outputs": [
        {
          "output_type": "stream",
          "name": "stdout",
          "text": [
            "We reject the null hypothesis\n"
          ]
        }
      ]
    },
    {
      "cell_type": "markdown",
      "source": [
        "###**B3:JUSTIFICATION**\n",
        "\n",
        "The chi-square method is chosen because the variables of interest are categorical in nature. The 'Churn' which is binary (yes or no) response variable is an example of categorical data and 'Contract' variable is ordinal categorical data and therefore the appropriate statistical method is chi-square.\n",
        "\n",
        "Chi-square statistic measures the extent some observed data deviates from the expected frequency distribution and it uses the row by column contingency table to determine whether the variables of are independent of each other as null hypothesis (Bruce et al., 2020). In the case of this project, the chi-square statistic is used to assess the relationships among the categorical variables."
      ],
      "metadata": {
        "id": "Up_oEJgz7xtE"
      }
    },
    {
      "cell_type": "markdown",
      "source": [
        "### **C:UNIVARIATE STATISTICS**"
      ],
      "metadata": {
        "id": "s1d2e8WpGY2L"
      }
    },
    {
      "cell_type": "markdown",
      "source": [
        "**Categorical Variables**\n",
        "\n",
        "The univariate statistics used for the categorical variables are histograms. Histograms display the frequency of values in each range of data distribution."
      ],
      "metadata": {
        "id": "fDicR-fzGi7F"
      }
    },
    {
      "cell_type": "code",
      "source": [
        "# Contract variable stats\n",
        "cleaned_churn['Contract'].describe()\n"
      ],
      "metadata": {
        "colab": {
          "base_uri": "https://localhost:8080/"
        },
        "id": "lnOTcwgJ_CAH",
        "outputId": "bacb5991-5df5-4425-89b0-bd4f8dc5a8ae"
      },
      "execution_count": null,
      "outputs": [
        {
          "output_type": "execute_result",
          "data": {
            "text/plain": [
              "count              10000\n",
              "unique                 3\n",
              "top       Month-to-month\n",
              "freq                5456\n",
              "Name: Contract, dtype: object"
            ]
          },
          "metadata": {},
          "execution_count": 27
        }
      ]
    },
    {
      "cell_type": "markdown",
      "source": [
        "###**C1. Visual of Findings**"
      ],
      "metadata": {
        "id": "QwEVzWFD_2W8"
      }
    },
    {
      "cell_type": "code",
      "source": [
        "# Histogram showing the contract types and the number of customers\n",
        "cleaned_churn['Contract'].hist(color='green')\n",
        "plt.xlabel('Contract Type')\n",
        "plt.ylabel('Number of Customers')\n",
        "plt.show()"
      ],
      "metadata": {
        "colab": {
          "base_uri": "https://localhost:8080/",
          "height": 285
        },
        "id": "1itZW92TMMm6",
        "outputId": "2279d97f-e2e3-4f13-e432-e4b0819928d1"
      },
      "execution_count": null,
      "outputs": [
        {
          "output_type": "display_data",
          "data": {
            "text/plain": [
              "<Figure size 432x288 with 1 Axes>"
            ],
            "image/png": "[encoded data removed]"
          },
          "metadata": {}
        }
      ]
    },
    {
      "cell_type": "code",
      "source": [
        "# Histogram showing the number of customers that churned\n",
        "cleaned_churn['Churn'].hist(color='yellow')\n",
        "plt.xlabel('Churn')\n",
        "plt.ylabel('Number of Customers')\n",
        "plt.show()"
      ],
      "metadata": {
        "colab": {
          "base_uri": "https://localhost:8080/",
          "height": 285
        },
        "id": "4Ozky6okE9io",
        "outputId": "e46be044-d264-462b-8ece-95099c4fb641"
      },
      "execution_count": null,
      "outputs": [
        {
          "output_type": "display_data",
          "data": {
            "text/plain": [
              "<Figure size 432x288 with 1 Axes>"
            ],
            "image/png": "[encoded data removed]"
          },
          "metadata": {}
        }
      ]
    },
    {
      "cell_type": "markdown",
      "source": [
        " **Continuous Variables**\n",
        "\n",
        " The univariate statistics used for the numerical variables plotted using histograms."
      ],
      "metadata": {
        "id": "WaRjXH_zGzoq"
      }
    },
    {
      "cell_type": "code",
      "source": [
        "cleaned_churn['Income'].hist(color='purple')\n",
        "plt.xlabel('Income Levels')\n",
        "plt.ylabel('Number of Customers')\n",
        "plt.show()"
      ],
      "metadata": {
        "colab": {
          "base_uri": "https://localhost:8080/",
          "height": 288
        },
        "id": "Ov4VY5WDG7OE",
        "outputId": "6cbb03ec-d74d-4a7a-c39e-dd035c42ef2f"
      },
      "execution_count": null,
      "outputs": [
        {
          "output_type": "display_data",
          "data": {
            "text/plain": [
              "<Figure size 432x288 with 1 Axes>"
            ],
            "image/png": "[encoded data removed]"
          },
          "metadata": {}
        }
      ]
    },
    {
      "cell_type": "code",
      "source": [
        "cleaned_churn['Bandwidth_GB_Year'].hist()\n",
        "plt.xlabel('Bandwidth_GB_Year')\n",
        "plt.ylabel('Number of Customers')\n",
        "plt.show()"
      ],
      "metadata": {
        "colab": {
          "base_uri": "https://localhost:8080/",
          "height": 285
        },
        "id": "v99hAfCCHDV9",
        "outputId": "1ad152d5-dd28-4c05-b91a-445d462f2be5"
      },
      "execution_count": null,
      "outputs": [
        {
          "output_type": "display_data",
          "data": {
            "text/plain": [
              "<Figure size 432x288 with 1 Axes>"
            ],
            "image/png": "[encoded data removed]"
          },
          "metadata": {}
        }
      ]
    },
    {
      "cell_type": "markdown",
      "source": [
        "### **D:BIVARIATE STATISTICS**"
      ],
      "metadata": {
        "id": "z1iOTTbAHerp"
      }
    },
    {
      "cell_type": "markdown",
      "source": [
        " **Continuous Variables Bivariate Statistical Analysis**\n",
        " \n",
        " Two continuous variables are compared to each using a scatter plot."
      ],
      "metadata": {
        "id": "fKtEpV6XhPit"
      }
    },
    {
      "cell_type": "markdown",
      "source": [
        "**Bivariate Analysis of Categorical Variables**\n",
        "\n",
        "Here the categorical variables 'Churn' and 'Contract' are compared using a bar plot."
      ],
      "metadata": {
        "id": "DjVqlLjf1czq"
      }
    },
    {
      "cell_type": "markdown",
      "source": [
        "###**D1. Visual of Findings**"
      ],
      "metadata": {
        "id": "nf7ipfFYlkBm"
      }
    },
    {
      "cell_type": "code",
      "source": [
        "plt.scatter(x='Yearly_equip_failure', y='Income', data=cleaned_churn)\n",
        "plt.xlabel('Yearly Equipment Failure')\n",
        "plt.ylabel('Income')\n",
        "plt.show()"
      ],
      "metadata": {
        "colab": {
          "base_uri": "https://localhost:8080/",
          "height": 285
        },
        "id": "5Zn3wW1HHk9y",
        "outputId": "23e30108-8ab1-4658-ee83-ffc3fb47f3c9"
      },
      "execution_count": null,
      "outputs": [
        {
          "output_type": "display_data",
          "data": {
            "text/plain": [
              "<Figure size 432x288 with 1 Axes>"
            ],
            "image/png": "[encoded data removed]"
          },
          "metadata": {}
        }
      ]
    },
    {
      "cell_type": "code",
      "source": [
        "/***************************************************************************************\n",
        "*    Title: Churn Rate by Contract Type\n",
        "*    Author: Sreejith Sreedharan\n",
        "*    Date: 10/26/2020\n",
        "*    Code version: \n",
        "*    Availability: https://towardsdatascience.com/predict-customer-churn-in-python-e8cd6d3aaa7\n",
        "*\n",
        "***************************************************************************************/\n",
        " #The citation above is for the code below\n",
        "import matplotlib.ticker as mtick\n",
        "contract_churn = cleaned_churn.groupby(['Contract','Churn']).size().unstack()\n",
        "\n",
        "contract_churn.rename(\n",
        "columns={0:'No', 1:'Yes'}, inplace=True)\n",
        "colors  = ['green','red']\n",
        "ax = (contract_churn.T*100.0 / contract_churn.T.sum()).T.plot(kind='bar',\n",
        "      width = 0.3,stacked = True,rot = 0,figsize = (12,7),color = colors)\n",
        "plt.ylabel('Percentage of Customers\\n',fontsize = \"22\")\n",
        "plt.xlabel('Contract Type\\n',fontsize = \"22\")\n",
        "plt.title('Churn Rate by Contract Type \\n',fontsize = \"22\")\n",
        "plt.legend(loc='top right', fontsize = \"medium\")\n",
        "plt.xticks(rotation=0, horizontalalignment=\"center\")\n",
        "plt.yticks(rotation=0, horizontalalignment=\"right\")\n",
        "ax.yaxis.set_major_formatter(mtick.PercentFormatter())\n",
        "for p in ax.patches:\n",
        "    width, height = p.get_width(), p.get_height()\n",
        "    x, y = p.get_xy() \n",
        "    ax.text(x+width/2, \n",
        "            y+height/2, \n",
        "            '{:.1f}%'.format(height), \n",
        "            horizontalalignment='center', \n",
        "            verticalalignment='center')\n",
        "ax.autoscale(enable=False, axis='both', tight=False)"
      ],
      "metadata": {
        "colab": {
          "base_uri": "https://localhost:8080/",
          "height": 523
        },
        "id": "jGPv8IkoLfFP",
        "outputId": "25f26495-1f10-4223-e10c-662e24adb3e1"
      },
      "execution_count": null,
      "outputs": [
        {
          "output_type": "display_data",
          "data": {
            "text/plain": [
              "<Figure size 864x504 with 1 Axes>"
            ],
            "image/png": "[encoded data removed]"
          },
          "metadata": {}
        }
      ]
    },
    {
      "cell_type": "markdown",
      "source": [
        "###**E1.  Results of Analysis**\n",
        "\n",
        "The hypotheses for  the analyis are as follows:\n",
        "\n",
        "**Null Hypothesis**\n",
        "\n",
        " * The 'Churn' variable is independent  of the 'Contract' variable.\n",
        "\n",
        "\n",
        "\n",
        "\n",
        "**Alternative Hypothesis**\n",
        "\n",
        "* The 'Churn' variable is dependent on the 'Contract' variable.\n",
        "\n",
        "The result of the chi-square statistics shows that the p-value(**0.0**) is less than 0.05  and therefore we reject the null hypothesis. This shows that there's a relationship between the contract and the churn rate. Since customers have been segmented into three types of contract, from the graph above the month-to-month contract type tends to see a higher percentage of customer churn rate across the three types of contract.\n",
        "\n",
        "\n",
        "###**E2. Limitations of data analysis.**\n",
        "\n",
        "By correlating just two features of the dataset using chi-square statistics provided reliable information about how customers tend to churn when across the contract type they signed up for. But the limitation of just using the 'Contract' is that  other features in the dataset can get easily overlooked as customers have diverse backgrounds and their behaviors cannot be generalized to one feature.\n",
        "\n",
        "###**E3.  Recommendation Course of Action**\n",
        "\n",
        "From analyzing the relationship between the contract and the churn rate, the telecom company should target those customers that subscribed to a month-to-month contract so that their retention rate can be increased.\n",
        " \n",
        "\n",
        "###**F.Video**\n",
        "\n",
        "\n",
        "https://wgu.hosted.panopto.com/Panopto/Pages/Viewer.aspx?id=728f3539-0804-4379-be2e-aec3004b6e0b\n",
        " \n",
        "\n",
        "###**G.Sources for Third-Party Code**\n",
        "\n",
        " Sreedharan, S. (2020, October 27). Predict customer churn in Python. Medium. Retrieved June 28, 2022, from https://towardsdatascience.com/predict-customer-churn-in-python-e8cd6d3aaa7 \n",
        " \n",
        "\n",
        "###**H.Sources.**\n",
        "\n",
        " Bruce, P., Bruce, A., &amp; Gedeck, P. (2020). Practical statistics for data scientists: 50+ essential concepts using r and python. O'Reilly. \n",
        "\n"
      ],
      "metadata": {
        "id": "TFk9L3xU2usO"
      }
    }
  ]
}